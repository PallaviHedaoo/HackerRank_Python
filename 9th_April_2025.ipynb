{
 "cells": [
  {
   "cell_type": "markdown",
   "id": "1c1307a1",
   "metadata": {},
   "source": [
    "### Q.11 :\n",
    "**floor**\n",
    "\n",
    "The tool floor returns the floor of the input element-wise.\n",
    "The floor of x is the largest integer i where i <= x.\n",
    "\n",
    "import numpy\n",
    "\n",
    "my_array = numpy.array([1.1, 2.2, 3.3, 4.4, 5.5, 6.6, 7.7, 8.8, 9.9])\n",
    "print numpy.floor(my_array)         #[ 1.  2.  3.  4.  5.  6.  7.  8.  9.]\n",
    "\n",
    "**ceil**\n",
    "\n",
    "The tool ceil returns the ceiling of the input element-wise.\n",
    "The ceiling of  is the smallest integer  where .\n",
    "\n",
    "import numpy\n",
    "\n",
    "my_array = numpy.array([1.1, 2.2, 3.3, 4.4, 5.5, 6.6, 7.7, 8.8, 9.9])\n",
    "print numpy.ceil(my_array)          #[  2.   3.   4.   5.   6.   7.   8.   9.  10.]\n",
    "\n",
    "**rint**\n",
    "\n",
    "The rint tool rounds to the nearest integer of input element-wise.\n",
    "\n",
    "import numpy\n",
    "\n",
    "my_array = numpy.array([1.1, 2.2, 3.3, 4.4, 5.5, 6.6, 7.7, 8.8, 9.9])\n",
    "print numpy.rint(my_array)          #[  1.   2.   3.   4.   6.   7.   8.   9.  10.]\n",
    "\n",
    "**Task**\n",
    "\n",
    "You are given a 1-D array, A. Your task is to print the floor, ceil and rint of all the elements of A.\n",
    "\n",
    "**Note**\n",
    "\n",
    "In order to get the correct output format, add the line \n",
    "numpy.set_printoptions(legacy = '1.13') below the numpy import.\n",
    "\n",
    "**Input Format**\n",
    "\n",
    "A single line of input containing the space separated elements of array A.\n",
    "\n",
    "**Output Format**\n",
    "\n",
    "On the first line, print the floor of A.\n",
    "On the second line, print the ceil of A.\n",
    "On the third line, print the rint of A."
   ]
  },
  {
   "cell_type": "markdown",
   "id": "94405dc3",
   "metadata": {},
   "source": [
    "### Answer :"
   ]
  },
  {
   "cell_type": "code",
   "execution_count": 7,
   "id": "a1386938",
   "metadata": {},
   "outputs": [
    {
     "name": "stdout",
     "output_type": "stream",
     "text": [
      "[ 1.  2.  3.  4.  5.  6.  7.  8.  9.]\n",
      "[  2.   3.   4.   5.   6.   7.   8.   9.  10.]\n",
      "[  1.   2.   3.   4.   6.   7.   8.   9.  10.]\n"
     ]
    }
   ],
   "source": [
    "import numpy\n",
    "\n",
    "numpy.set_printoptions(legacy='1.13')\n",
    "\n",
    "A = numpy.array([1.1, 2.2, 3.3, 4.4, 5.5, 6.6, 7.7, 8.8, 9.9])\n",
    "\n",
    "print(numpy.floor(A))\n",
    "\n",
    "print(numpy.ceil(A))\n",
    "\n",
    "print(numpy.rint(A))"
   ]
  },
  {
   "cell_type": "markdown",
   "id": "6518f2c7",
   "metadata": {},
   "source": [
    "### Q.12 :\n",
    "**sum**\n",
    "\n",
    "The sum tool returns the sum of array elements over a given axis.\n",
    "\n",
    "import numpy\n",
    "\n",
    "my_array = numpy.array([ [1, 2], [3, 4] ])\n",
    "\n",
    "print numpy.sum(my_array, axis = 0)         #Output : [4 6]\n",
    "print numpy.sum(my_array, axis = 1)         #Output : [3 7]\n",
    "print numpy.sum(my_array, axis = None)      #Output : 10\n",
    "print numpy.sum(my_array)                   #Output : 10\n",
    "By default, the axis value is None. Therefore, it performs a sum over all the dimensions of the input array.\n",
    "\n",
    "**prod**\n",
    "\n",
    "The prod tool returns the product of array elements over a given axis.\n",
    "\n",
    "import numpy\n",
    "\n",
    "my_array = numpy.array([ [1, 2], [3, 4] ])\n",
    "\n",
    "print numpy.prod(my_array, axis = 0)            #Output : [3 8]\n",
    "print numpy.prod(my_array, axis = 1)            #Output : [ 2 12]\n",
    "print numpy.prod(my_array, axis = None)         #Output : 24\n",
    "print numpy.prod(my_array)                      #Output : 24\n",
    "By default, the axis value is None. Therefore, it performs the product over all the dimensions of the input array.\n",
    "\n",
    "**Task**\n",
    "\n",
    "You are given a 2-D array with dimensions NxM.\n",
    "Your task is to perform the sum tool over axis 0 and then find the prod of that result.\n",
    "\n",
    "**Input Format**\n",
    "\n",
    "The first line of input contains space separated values of N and M.\n",
    "The next N lines contains M space separated integers.\n",
    "\n",
    "**Output Format**\n",
    "\n",
    "Compute the sum along axis 0. Then, print the product of that sum."
   ]
  },
  {
   "cell_type": "markdown",
   "id": "2281122c",
   "metadata": {},
   "source": [
    "### Answer :"
   ]
  },
  {
   "cell_type": "code",
   "execution_count": 41,
   "id": "56480b8b",
   "metadata": {},
   "outputs": [
    {
     "name": "stdout",
     "output_type": "stream",
     "text": [
      "24\n"
     ]
    }
   ],
   "source": [
    "import numpy\n",
    "\n",
    "array = numpy.array([ [1, 2], [3, 4] ])\n",
    "\n",
    "sum_values = numpy.sum(array, axis=0)\n",
    "\n",
    "prod_value = numpy.prod(sum_values)\n",
    "\n",
    "print(prod_value)\n"
   ]
  },
  {
   "cell_type": "markdown",
   "id": "91364b28",
   "metadata": {},
   "source": [
    "### Q.13 :\n",
    "**min**\n",
    "\n",
    "The tool min returns the minimum value along a given axis.\n",
    "\n",
    "import numpy\n",
    "\n",
    "my_array = numpy.array([[2, 5], \n",
    "                        [3, 7],\n",
    "                        [1, 3],\n",
    "                        [4, 0]])\n",
    "\n",
    "print numpy.min(my_array, axis = 0)         #Output : [1 0]\n",
    "print numpy.min(my_array, axis = 1)         #Output : [2 3 1 0]\n",
    "print numpy.min(my_array, axis = None)      #Output : 0\n",
    "print numpy.min(my_array)                   #Output : 0\n",
    "By default, the axis value is None. Therefore, it finds the minimum over all the dimensions of the input array.\n",
    "\n",
    "**max**\n",
    "\n",
    "The tool max returns the maximum value along a given axis.\n",
    "\n",
    "import numpy\n",
    "\n",
    "my_array = numpy.array([[2, 5], \n",
    "                        [3, 7],\n",
    "                        [1, 3],\n",
    "                        [4, 0]])\n",
    "\n",
    "print numpy.max(my_array, axis = 0)         #Output : [4 7]\n",
    "print numpy.max(my_array, axis = 1)         #Output : [5 7 3 4]\n",
    "print numpy.max(my_array, axis = None)      #Output : 7\n",
    "print numpy.max(my_array)                   #Output : 7\n",
    "By default, the axis value is None. Therefore, it finds the maximum over all the dimensions of the input array.\n",
    "\n",
    "**Task**\n",
    "\n",
    "You are given a 2-D array with dimensions NxM.\n",
    "Your task is to perform the min function over axis 1 and then find the max of that.\n",
    "\n",
    "**Input Format**\n",
    "\n",
    "The first line of input contains the space separated values of N and M.\n",
    "The next N lines contains M space separated integers.\n",
    "\n",
    "**Output Format**\n",
    "\n",
    "Compute the min along axis 1 and then print the max of that result."
   ]
  },
  {
   "cell_type": "markdown",
   "id": "8c289be0",
   "metadata": {},
   "source": [
    "### Answer :"
   ]
  },
  {
   "cell_type": "code",
   "execution_count": 40,
   "id": "2f3a8244",
   "metadata": {},
   "outputs": [
    {
     "name": "stdout",
     "output_type": "stream",
     "text": [
      "3\n"
     ]
    }
   ],
   "source": [
    "import numpy\n",
    "\n",
    "array = numpy.array([[2,5], [3,7], [1,3], [4,0]])\n",
    "\n",
    "min_values = numpy.min(array, axis=1)\n",
    "\n",
    "max_value = numpy.max(min_values)\n",
    "\n",
    "print(max_value)"
   ]
  },
  {
   "cell_type": "markdown",
   "id": "d5bf7cd3",
   "metadata": {},
   "source": [
    "### Q.14 :\n",
    "**mean**\n",
    "\n",
    "The mean tool computes the arithmetic mean along the specified axis.\n",
    "\n",
    "import numpy\n",
    "\n",
    "my_array = numpy.array([ [1, 2], [3, 4] ])\n",
    "\n",
    "print numpy.mean(my_array, axis = 0)        #Output : [ 2.  3.]\n",
    "print numpy.mean(my_array, axis = 1)        #Output : [ 1.5  3.5]\n",
    "print numpy.mean(my_array, axis = None)     #Output : 2.5\n",
    "print numpy.mean(my_array)                  #Output : 2.5\n",
    "By default, the axis is None. Therefore, it computes the mean of the flattened array.\n",
    "\n",
    "**var**\n",
    "\n",
    "The var tool computes the arithmetic variance along the specified axis.\n",
    "\n",
    "import numpy\n",
    "\n",
    "my_array = numpy.array([ [1, 2], [3, 4] ])\n",
    "\n",
    "print numpy.var(my_array, axis = 0)         #Output : [ 1.  1.]\n",
    "print numpy.var(my_array, axis = 1)         #Output : [ 0.25  0.25]\n",
    "print numpy.var(my_array, axis = None)      #Output : 1.25\n",
    "print numpy.var(my_array)                   #Output : 1.25\n",
    "By default, the axis is None. Therefore, it computes the variance of the flattened array.\n",
    "\n",
    "**std**\n",
    "\n",
    "The std tool computes the arithmetic standard deviation along the specified axis.\n",
    "\n",
    "import numpy\n",
    "\n",
    "my_array = numpy.array([ [1, 2], [3, 4] ])\n",
    "\n",
    "print numpy.std(my_array, axis = 0)         #Output : [ 1.  1.]\n",
    "print numpy.std(my_array, axis = 1)         #Output : [ 0.5  0.5]\n",
    "print numpy.std(my_array, axis = None)      #Output : 1.11803398875\n",
    "print numpy.std(my_array)                   #Output : 1.11803398875\n",
    "By default, the axis is None. Therefore, it computes the standard deviation of the flattened array.\n",
    "\n",
    "**Task**\n",
    "\n",
    "You are given a 2-D array of size X.\n",
    "Your task is to find:\n",
    "\n",
    "The mean along axis 1\n",
    "The var along axis 0\n",
    "The std along axis None\n",
    "\n",
    "**Input Format**\n",
    "\n",
    "The first line contains the space separated values of N and M.\n",
    "The next N lines contains M space separated integers.\n",
    "\n",
    "**Output Format**\n",
    "\n",
    "First, print the mean.\n",
    "Second, print the var.\n",
    "Third, print the std."
   ]
  },
  {
   "cell_type": "markdown",
   "id": "43577c56",
   "metadata": {},
   "source": [
    "### Answer :"
   ]
  },
  {
   "cell_type": "code",
   "execution_count": 39,
   "id": "f3ac2a1e",
   "metadata": {},
   "outputs": [
    {
     "name": "stdout",
     "output_type": "stream",
     "text": [
      "[1.5 3.5]\n",
      "[1. 1.]\n",
      "1.11803398875\n"
     ]
    }
   ],
   "source": [
    "import numpy\n",
    "\n",
    "array = numpy.array([ [1, 2], [3, 4] ])\n",
    "\n",
    "mean_value = numpy.mean(array, axis=1)\n",
    "\n",
    "var_value = numpy.var(array, axis=0)\n",
    "\n",
    "std_value = numpy.std(array, axis=None)\n",
    "\n",
    "print(mean_value)\n",
    "print(var_value)\n",
    "print(round(std_value, 11))"
   ]
  },
  {
   "cell_type": "markdown",
   "id": "7b97b656",
   "metadata": {},
   "source": [
    "### Q.15 :\n",
    "**dot**\n",
    "\n",
    "The dot tool returns the dot product of two arrays.\n",
    "\n",
    "import numpy\n",
    "\n",
    "A = numpy.array([ 1, 2 ])\n",
    "B = numpy.array([ 3, 4 ])\n",
    "\n",
    "print numpy.dot(A, B)       #Output : 11\n",
    "\n",
    "**cross**\n",
    "\n",
    "The cross tool returns the cross product of two arrays.\n",
    "\n",
    "import numpy\n",
    "\n",
    "A = numpy.array([ 1, 2 ])\n",
    "B = numpy.array([ 3, 4 ])\n",
    "\n",
    "print numpy.cross(A, B)     #Output : -2\n",
    "\n",
    "**Task**\n",
    "\n",
    "You are given two arrays A and B. Both have dimensions of NxN.\n",
    "Your task is to compute their matrix product.\n",
    "\n",
    "**Input Format**\n",
    "\n",
    "The first line contains the integer N.\n",
    "The next N lines contains N space separated integers of array A.\n",
    "The following N lines contains N space separated integers of array B.\n",
    "\n",
    "**Output Format**\n",
    "\n",
    "Print the matrix multiplication of A and B."
   ]
  },
  {
   "cell_type": "markdown",
   "id": "edc4fce8",
   "metadata": {},
   "source": [
    "### Answer :"
   ]
  },
  {
   "cell_type": "code",
   "execution_count": 75,
   "id": "5cf4b5e5",
   "metadata": {},
   "outputs": [
    {
     "name": "stdout",
     "output_type": "stream",
     "text": [
      "[[19 22]\n",
      " [43 50]]\n"
     ]
    }
   ],
   "source": [
    "import numpy\n",
    "\n",
    "N = 2\n",
    "\n",
    "A = numpy.array([[1,2], [3,4]])\n",
    "\n",
    "B = numpy.array([[5,6], [7,8]])\n",
    "\n",
    "matrix_product = numpy.dot(A, B)\n",
    " \n",
    "print(matrix_product)"
   ]
  }
 ],
 "metadata": {
  "kernelspec": {
   "display_name": "base",
   "language": "python",
   "name": "python3"
  },
  "language_info": {
   "codemirror_mode": {
    "name": "ipython",
    "version": 3
   },
   "file_extension": ".py",
   "mimetype": "text/x-python",
   "name": "python",
   "nbconvert_exporter": "python",
   "pygments_lexer": "ipython3",
   "version": "3.12.7"
  }
 },
 "nbformat": 4,
 "nbformat_minor": 5
}
